{
 "cells": [
  {
   "cell_type": "code",
   "execution_count": 1,
   "id": "515a0cbf",
   "metadata": {},
   "outputs": [],
   "source": [
    "# import 'pandas' \n",
    "import pandas as pd \n",
    "\n",
    "# import 'numpy' \n",
    "import numpy as np\n",
    "\n",
    "# import subpackage of matplotlib\n",
    "import matplotlib.pyplot as plt\n",
    "\n",
    "# import 'seaborn'\n",
    "import seaborn as sns\n",
    "\n",
    "# to suppress warnings \n",
    "from warnings import filterwarnings\n",
    "filterwarnings('ignore')\n",
    "\n",
    "# display all columns of the dataframe\n",
    "pd.options.display.max_columns = None\n",
    "\n",
    "# import statsmodels\n",
    "import statsmodels.api as sm\n",
    "from statsmodels.formula.api import ols\n",
    "from statsmodels.stats.anova import anova_lm\n",
    "\n",
    "# import 'stats' package from scipy library\n",
    "from scipy import stats"
   ]
  },
  {
   "cell_type": "markdown",
   "id": "ab191b43",
   "metadata": {},
   "source": [
    " Use the sales employees' dataset to test whether the average monthly income of sales executives with different education background is equal or not. Use a critical value method with 95% confidence."
   ]
  },
  {
   "cell_type": "raw",
   "id": "6f5d8ab2",
   "metadata": {},
   "source": [
    "The null and alternative hypothesis is:\n",
    "\n",
    "H0: The average monthly income for all the education fields is the same\n",
    "H1: The average monthly income due to at least one education field is different\n"
   ]
  },
  {
   "cell_type": "code",
   "execution_count": 2,
   "id": "846f811a",
   "metadata": {},
   "outputs": [
    {
     "data": {
      "text/html": [
       "<div>\n",
       "<style scoped>\n",
       "    .dataframe tbody tr th:only-of-type {\n",
       "        vertical-align: middle;\n",
       "    }\n",
       "\n",
       "    .dataframe tbody tr th {\n",
       "        vertical-align: top;\n",
       "    }\n",
       "\n",
       "    .dataframe thead th {\n",
       "        text-align: right;\n",
       "    }\n",
       "</style>\n",
       "<table border=\"1\" class=\"dataframe\">\n",
       "  <thead>\n",
       "    <tr style=\"text-align: right;\">\n",
       "      <th></th>\n",
       "      <th>Age</th>\n",
       "      <th>BusinessTravel</th>\n",
       "      <th>DailyRate</th>\n",
       "      <th>DistanceFromHome</th>\n",
       "      <th>Education</th>\n",
       "      <th>EducationField</th>\n",
       "      <th>EmployeeCount</th>\n",
       "      <th>EmployeeNumber</th>\n",
       "      <th>EnvironmentSatisfaction</th>\n",
       "      <th>HourlyRate</th>\n",
       "      <th>JobInvolvement</th>\n",
       "      <th>JobLevel</th>\n",
       "      <th>JobSatisfaction</th>\n",
       "      <th>MaritalStatus</th>\n",
       "      <th>MonthlyIncome</th>\n",
       "      <th>MonthlyRate</th>\n",
       "      <th>NumCompaniesWorked</th>\n",
       "      <th>Over18</th>\n",
       "      <th>OverTime</th>\n",
       "      <th>PercentSalaryHike</th>\n",
       "      <th>PerformanceRating</th>\n",
       "      <th>RelationshipSatisfaction</th>\n",
       "      <th>StandardHours</th>\n",
       "      <th>StockOptionLevel</th>\n",
       "      <th>TotalWorkingYears</th>\n",
       "      <th>TrainingTimesLastYear</th>\n",
       "      <th>WorkLifeBalance</th>\n",
       "      <th>YearsAtCompany</th>\n",
       "      <th>YearsInCurrentRole</th>\n",
       "      <th>YearsSinceLastPromotion</th>\n",
       "      <th>YearsWithCurrManager</th>\n",
       "    </tr>\n",
       "  </thead>\n",
       "  <tbody>\n",
       "    <tr>\n",
       "      <th>0</th>\n",
       "      <td>36</td>\n",
       "      <td>Travel_Rarely</td>\n",
       "      <td>1218</td>\n",
       "      <td>9</td>\n",
       "      <td>4</td>\n",
       "      <td>Life Sciences</td>\n",
       "      <td>1</td>\n",
       "      <td>27</td>\n",
       "      <td>3</td>\n",
       "      <td>82</td>\n",
       "      <td>2</td>\n",
       "      <td>1</td>\n",
       "      <td>1</td>\n",
       "      <td>Single</td>\n",
       "      <td>3407</td>\n",
       "      <td>6986</td>\n",
       "      <td>7</td>\n",
       "      <td>Y</td>\n",
       "      <td>No</td>\n",
       "      <td>23</td>\n",
       "      <td>4</td>\n",
       "      <td>2</td>\n",
       "      <td>80</td>\n",
       "      <td>0</td>\n",
       "      <td>10</td>\n",
       "      <td>4</td>\n",
       "      <td>3</td>\n",
       "      <td>5</td>\n",
       "      <td>3</td>\n",
       "      <td>0</td>\n",
       "      <td>3</td>\n",
       "    </tr>\n",
       "    <tr>\n",
       "      <th>1</th>\n",
       "      <td>39</td>\n",
       "      <td>Travel_Rarely</td>\n",
       "      <td>895</td>\n",
       "      <td>5</td>\n",
       "      <td>3</td>\n",
       "      <td>Technical Degree</td>\n",
       "      <td>1</td>\n",
       "      <td>42</td>\n",
       "      <td>4</td>\n",
       "      <td>56</td>\n",
       "      <td>3</td>\n",
       "      <td>2</td>\n",
       "      <td>4</td>\n",
       "      <td>Married</td>\n",
       "      <td>2086</td>\n",
       "      <td>3335</td>\n",
       "      <td>3</td>\n",
       "      <td>Y</td>\n",
       "      <td>No</td>\n",
       "      <td>14</td>\n",
       "      <td>3</td>\n",
       "      <td>3</td>\n",
       "      <td>80</td>\n",
       "      <td>1</td>\n",
       "      <td>19</td>\n",
       "      <td>6</td>\n",
       "      <td>4</td>\n",
       "      <td>1</td>\n",
       "      <td>0</td>\n",
       "      <td>0</td>\n",
       "      <td>0</td>\n",
       "    </tr>\n",
       "  </tbody>\n",
       "</table>\n",
       "</div>"
      ],
      "text/plain": [
       "   Age BusinessTravel  DailyRate  DistanceFromHome  Education  \\\n",
       "0   36  Travel_Rarely       1218                 9          4   \n",
       "1   39  Travel_Rarely        895                 5          3   \n",
       "\n",
       "     EducationField  EmployeeCount  EmployeeNumber  EnvironmentSatisfaction  \\\n",
       "0     Life Sciences              1              27                        3   \n",
       "1  Technical Degree              1              42                        4   \n",
       "\n",
       "   HourlyRate  JobInvolvement  JobLevel  JobSatisfaction MaritalStatus  \\\n",
       "0          82               2         1                1        Single   \n",
       "1          56               3         2                4       Married   \n",
       "\n",
       "   MonthlyIncome  MonthlyRate  NumCompaniesWorked Over18 OverTime  \\\n",
       "0           3407         6986                   7      Y       No   \n",
       "1           2086         3335                   3      Y       No   \n",
       "\n",
       "   PercentSalaryHike  PerformanceRating  RelationshipSatisfaction  \\\n",
       "0                 23                  4                         2   \n",
       "1                 14                  3                         3   \n",
       "\n",
       "   StandardHours  StockOptionLevel  TotalWorkingYears  TrainingTimesLastYear  \\\n",
       "0             80                 0                 10                      4   \n",
       "1             80                 1                 19                      6   \n",
       "\n",
       "   WorkLifeBalance  YearsAtCompany  YearsInCurrentRole  \\\n",
       "0                3               5                   3   \n",
       "1                4               1                   0   \n",
       "\n",
       "   YearsSinceLastPromotion  YearsWithCurrManager  \n",
       "0                        0                     3  \n",
       "1                        0                     0  "
      ]
     },
     "execution_count": 2,
     "metadata": {},
     "output_type": "execute_result"
    }
   ],
   "source": [
    "df_emp = pd.read_csv('sales_emp.csv')\n",
    "\n",
    "df_emp.head(2)"
   ]
  },
  {
   "cell_type": "code",
   "execution_count": 7,
   "id": "3972a930",
   "metadata": {},
   "outputs": [
    {
     "data": {
      "text/plain": [
       "(54, 31)"
      ]
     },
     "execution_count": 7,
     "metadata": {},
     "output_type": "execute_result"
    }
   ],
   "source": [
    "df_emp.shape"
   ]
  },
  {
   "cell_type": "code",
   "execution_count": 3,
   "id": "53279c25",
   "metadata": {},
   "outputs": [
    {
     "data": {
      "text/plain": [
       "0.05732710659503937"
      ]
     },
     "execution_count": 3,
     "metadata": {},
     "output_type": "execute_result"
    }
   ],
   "source": [
    "stat , p = stats.shapiro(df_emp['MonthlyIncome'])\n",
    "p"
   ]
  },
  {
   "cell_type": "code",
   "execution_count": 4,
   "id": "9d0bba10",
   "metadata": {},
   "outputs": [
    {
     "data": {
      "text/plain": [
       "array(['Life Sciences', 'Technical Degree', 'Marketing', 'Medical',\n",
       "       'Other'], dtype=object)"
      ]
     },
     "execution_count": 4,
     "metadata": {},
     "output_type": "execute_result"
    }
   ],
   "source": [
    "df_emp['EducationField'].unique()"
   ]
  },
  {
   "cell_type": "code",
   "execution_count": 5,
   "id": "aea19510",
   "metadata": {},
   "outputs": [
    {
     "data": {
      "text/plain": [
       "0.23476859109336565"
      ]
     },
     "execution_count": 5,
     "metadata": {},
     "output_type": "execute_result"
    }
   ],
   "source": [
    "stat , p = stats.levene(df_emp[df_emp['EducationField']=='Life Sciences']['MonthlyIncome'], \\\n",
    "                       df_emp[df_emp['EducationField']=='Technical Degree']['MonthlyIncome'],\\\n",
    "                       df_emp[df_emp['EducationField']=='Marketing']['MonthlyIncome'],\\\n",
    "                       df_emp[df_emp['EducationField']=='Medical']['MonthlyIncome'],\\\n",
    "                       df_emp[df_emp['EducationField']=='Other']['MonthlyIncome'])\n",
    "p"
   ]
  },
  {
   "cell_type": "code",
   "execution_count": 6,
   "id": "dddc65ac",
   "metadata": {},
   "outputs": [
    {
     "data": {
      "text/plain": [
       "0.9546031924978221"
      ]
     },
     "execution_count": 6,
     "metadata": {},
     "output_type": "execute_result"
    }
   ],
   "source": [
    "test_stat, p_val = stats.f_oneway(df_emp[df_emp['EducationField']=='Life Sciences']['MonthlyIncome'], \\\n",
    "                       df_emp[df_emp['EducationField']=='Technical Degree']['MonthlyIncome'],\\\n",
    "                       df_emp[df_emp['EducationField']=='Marketing']['MonthlyIncome'],\\\n",
    "                       df_emp[df_emp['EducationField']=='Medical']['MonthlyIncome'],\\\n",
    "                       df_emp[df_emp['EducationField']=='Other']['MonthlyIncome'])\n",
    "\n",
    "test_stat"
   ]
  },
  {
   "cell_type": "code",
   "execution_count": 8,
   "id": "1d4b551d",
   "metadata": {},
   "outputs": [
    {
     "data": {
      "text/plain": [
       "2.561124033899875"
      ]
     },
     "execution_count": 8,
     "metadata": {},
     "output_type": "execute_result"
    }
   ],
   "source": [
    "f_crit = stats.f.isf(q = 0.05, dfn = 4, dfd = 49)\n",
    "f_crit"
   ]
  },
  {
   "cell_type": "code",
   "execution_count": 9,
   "id": "912076c7",
   "metadata": {},
   "outputs": [
    {
     "data": {
      "text/plain": [
       "False"
      ]
     },
     "execution_count": 9,
     "metadata": {},
     "output_type": "execute_result"
    }
   ],
   "source": [
    "test_stat > f_crit"
   ]
  },
  {
   "cell_type": "code",
   "execution_count": null,
   "id": "a5b58bd7",
   "metadata": {},
   "outputs": [],
   "source": [
    "#Fail to reject the H0.\n",
    "#The average monthly income for all the education fields is the same"
   ]
  },
  {
   "cell_type": "markdown",
   "id": "b620d08a",
   "metadata": {},
   "source": [
    "# EDA - Exploratory Data Analysis"
   ]
  },
  {
   "cell_type": "code",
   "execution_count": 24,
   "id": "9c7e0847",
   "metadata": {},
   "outputs": [],
   "source": [
    "df = pd.read_csv(\"Life_Expectancy.csv\")"
   ]
  },
  {
   "cell_type": "code",
   "execution_count": 25,
   "id": "544880fd",
   "metadata": {},
   "outputs": [
    {
     "data": {
      "text/html": [
       "<div>\n",
       "<style scoped>\n",
       "    .dataframe tbody tr th:only-of-type {\n",
       "        vertical-align: middle;\n",
       "    }\n",
       "\n",
       "    .dataframe tbody tr th {\n",
       "        vertical-align: top;\n",
       "    }\n",
       "\n",
       "    .dataframe thead th {\n",
       "        text-align: right;\n",
       "    }\n",
       "</style>\n",
       "<table border=\"1\" class=\"dataframe\">\n",
       "  <thead>\n",
       "    <tr style=\"text-align: right;\">\n",
       "      <th></th>\n",
       "      <th>Country</th>\n",
       "      <th>Year</th>\n",
       "      <th>Status</th>\n",
       "      <th>Adult_Mortality</th>\n",
       "      <th>Infant_Deaths</th>\n",
       "      <th>Alcohol</th>\n",
       "      <th>Hepatitis B</th>\n",
       "      <th>Measles</th>\n",
       "      <th>BMI</th>\n",
       "      <th>Underfive_Deaths</th>\n",
       "      <th>Polio</th>\n",
       "      <th>Diphtheria</th>\n",
       "      <th>HIV</th>\n",
       "      <th>GDP</th>\n",
       "      <th>Population</th>\n",
       "      <th>Malnourished10_19</th>\n",
       "      <th>Malnourished5_9</th>\n",
       "      <th>Income_Index</th>\n",
       "      <th>Schooling</th>\n",
       "      <th>Life_Expectancy</th>\n",
       "    </tr>\n",
       "  </thead>\n",
       "  <tbody>\n",
       "    <tr>\n",
       "      <th>0</th>\n",
       "      <td>Afghanistan</td>\n",
       "      <td>2015</td>\n",
       "      <td>Developing</td>\n",
       "      <td>263.0</td>\n",
       "      <td>62</td>\n",
       "      <td>0.01</td>\n",
       "      <td>65.0</td>\n",
       "      <td>1154</td>\n",
       "      <td>19.1</td>\n",
       "      <td>83</td>\n",
       "      <td>6</td>\n",
       "      <td>65</td>\n",
       "      <td>0.1</td>\n",
       "      <td>584.259210</td>\n",
       "      <td>33736494.0</td>\n",
       "      <td>17.2</td>\n",
       "      <td>17.3</td>\n",
       "      <td>0.479</td>\n",
       "      <td>10.1</td>\n",
       "      <td>65.0</td>\n",
       "    </tr>\n",
       "    <tr>\n",
       "      <th>1</th>\n",
       "      <td>Albania</td>\n",
       "      <td>2015</td>\n",
       "      <td>Developing</td>\n",
       "      <td>74.0</td>\n",
       "      <td>0</td>\n",
       "      <td>4.60</td>\n",
       "      <td>99.0</td>\n",
       "      <td>0</td>\n",
       "      <td>58.0</td>\n",
       "      <td>0</td>\n",
       "      <td>99</td>\n",
       "      <td>99</td>\n",
       "      <td>0.1</td>\n",
       "      <td>3954.227830</td>\n",
       "      <td>28873.0</td>\n",
       "      <td>1.2</td>\n",
       "      <td>1.3</td>\n",
       "      <td>0.762</td>\n",
       "      <td>14.2</td>\n",
       "      <td>77.8</td>\n",
       "    </tr>\n",
       "    <tr>\n",
       "      <th>2</th>\n",
       "      <td>Algeria</td>\n",
       "      <td>2015</td>\n",
       "      <td>Developing</td>\n",
       "      <td>19.0</td>\n",
       "      <td>21</td>\n",
       "      <td>NaN</td>\n",
       "      <td>95.0</td>\n",
       "      <td>63</td>\n",
       "      <td>59.5</td>\n",
       "      <td>24</td>\n",
       "      <td>95</td>\n",
       "      <td>95</td>\n",
       "      <td>0.1</td>\n",
       "      <td>4132.762920</td>\n",
       "      <td>39871528.0</td>\n",
       "      <td>6.0</td>\n",
       "      <td>5.8</td>\n",
       "      <td>0.743</td>\n",
       "      <td>14.4</td>\n",
       "      <td>75.6</td>\n",
       "    </tr>\n",
       "    <tr>\n",
       "      <th>3</th>\n",
       "      <td>Angola</td>\n",
       "      <td>2015</td>\n",
       "      <td>Developing</td>\n",
       "      <td>335.0</td>\n",
       "      <td>66</td>\n",
       "      <td>NaN</td>\n",
       "      <td>64.0</td>\n",
       "      <td>118</td>\n",
       "      <td>23.3</td>\n",
       "      <td>98</td>\n",
       "      <td>7</td>\n",
       "      <td>64</td>\n",
       "      <td>1.9</td>\n",
       "      <td>3695.793748</td>\n",
       "      <td>2785935.0</td>\n",
       "      <td>8.3</td>\n",
       "      <td>8.2</td>\n",
       "      <td>0.531</td>\n",
       "      <td>11.4</td>\n",
       "      <td>52.4</td>\n",
       "    </tr>\n",
       "    <tr>\n",
       "      <th>4</th>\n",
       "      <td>Antigua</td>\n",
       "      <td>2015</td>\n",
       "      <td>Developing</td>\n",
       "      <td>13.0</td>\n",
       "      <td>0</td>\n",
       "      <td>NaN</td>\n",
       "      <td>99.0</td>\n",
       "      <td>0</td>\n",
       "      <td>47.7</td>\n",
       "      <td>0</td>\n",
       "      <td>86</td>\n",
       "      <td>99</td>\n",
       "      <td>0.2</td>\n",
       "      <td>13566.954100</td>\n",
       "      <td>NaN</td>\n",
       "      <td>3.3</td>\n",
       "      <td>3.3</td>\n",
       "      <td>0.784</td>\n",
       "      <td>13.9</td>\n",
       "      <td>76.4</td>\n",
       "    </tr>\n",
       "  </tbody>\n",
       "</table>\n",
       "</div>"
      ],
      "text/plain": [
       "       Country  Year      Status  Adult_Mortality  Infant_Deaths  Alcohol  \\\n",
       "0  Afghanistan  2015  Developing            263.0             62     0.01   \n",
       "1      Albania  2015  Developing             74.0              0     4.60   \n",
       "2      Algeria  2015  Developing             19.0             21      NaN   \n",
       "3       Angola  2015  Developing            335.0             66      NaN   \n",
       "4      Antigua  2015  Developing             13.0              0      NaN   \n",
       "\n",
       "   Hepatitis B  Measles    BMI  Underfive_Deaths   Polio  Diphtheria   HIV  \\\n",
       "0         65.0      1154  19.1                 83      6           65  0.1   \n",
       "1         99.0         0  58.0                  0     99           99  0.1   \n",
       "2         95.0        63  59.5                 24     95           95  0.1   \n",
       "3         64.0       118  23.3                 98      7           64  1.9   \n",
       "4         99.0         0  47.7                  0     86           99  0.2   \n",
       "\n",
       "            GDP  Population  Malnourished10_19  Malnourished5_9  Income_Index  \\\n",
       "0    584.259210  33736494.0               17.2             17.3         0.479   \n",
       "1   3954.227830     28873.0                1.2              1.3         0.762   \n",
       "2   4132.762920  39871528.0                6.0              5.8         0.743   \n",
       "3   3695.793748   2785935.0                8.3              8.2         0.531   \n",
       "4  13566.954100         NaN                3.3              3.3         0.784   \n",
       "\n",
       "   Schooling  Life_Expectancy  \n",
       "0       10.1             65.0  \n",
       "1       14.2             77.8  \n",
       "2       14.4             75.6  \n",
       "3       11.4             52.4  \n",
       "4       13.9             76.4  "
      ]
     },
     "execution_count": 25,
     "metadata": {},
     "output_type": "execute_result"
    }
   ],
   "source": [
    "df.head()"
   ]
  },
  {
   "cell_type": "code",
   "execution_count": 26,
   "id": "9dc92b78",
   "metadata": {},
   "outputs": [
    {
     "data": {
      "text/plain": [
       "(182, 20)"
      ]
     },
     "execution_count": 26,
     "metadata": {},
     "output_type": "execute_result"
    }
   ],
   "source": [
    "df.shape"
   ]
  },
  {
   "cell_type": "code",
   "execution_count": 27,
   "id": "166b8e0f",
   "metadata": {},
   "outputs": [
    {
     "name": "stdout",
     "output_type": "stream",
     "text": [
      "<class 'pandas.core.frame.DataFrame'>\n",
      "RangeIndex: 182 entries, 0 to 181\n",
      "Data columns (total 20 columns):\n",
      " #   Column             Non-Null Count  Dtype  \n",
      "---  ------             --------------  -----  \n",
      " 0   Country            182 non-null    object \n",
      " 1   Year               182 non-null    int64  \n",
      " 2   Status             182 non-null    object \n",
      " 3   Adult_Mortality    173 non-null    float64\n",
      " 4   Infant_Deaths      182 non-null    int64  \n",
      " 5   Alcohol            15 non-null     float64\n",
      " 6   Hepatitis B        173 non-null    float64\n",
      " 7   Measles            182 non-null    int64  \n",
      " 8   BMI                178 non-null    float64\n",
      " 9   Underfive_Deaths   182 non-null    int64  \n",
      " 10  Polio              182 non-null    int64  \n",
      " 11  Diphtheria         182 non-null    int64  \n",
      " 12  HIV                182 non-null    float64\n",
      " 13  GDP                157 non-null    float64\n",
      " 14  Population         141 non-null    float64\n",
      " 15  Malnourished10_19  178 non-null    float64\n",
      " 16  Malnourished5_9    178 non-null    float64\n",
      " 17  Income_Index       169 non-null    float64\n",
      " 18  Schooling          173 non-null    float64\n",
      " 19  Life_Expectancy    173 non-null    float64\n",
      "dtypes: float64(12), int64(6), object(2)\n",
      "memory usage: 28.6+ KB\n"
     ]
    }
   ],
   "source": [
    "df.info()"
   ]
  },
  {
   "cell_type": "code",
   "execution_count": 28,
   "id": "b76d3f3a",
   "metadata": {},
   "outputs": [
    {
     "data": {
      "text/plain": [
       "Country                0\n",
       "Year                   0\n",
       "Status                 0\n",
       "Adult_Mortality        9\n",
       "Infant_Deaths          0\n",
       "Alcohol              167\n",
       "Hepatitis B            9\n",
       "Measles                0\n",
       "BMI                    4\n",
       "Underfive_Deaths       0\n",
       "Polio                  0\n",
       "Diphtheria             0\n",
       "HIV                    0\n",
       "GDP                   25\n",
       "Population            41\n",
       "Malnourished10_19      4\n",
       "Malnourished5_9        4\n",
       "Income_Index          13\n",
       "Schooling              9\n",
       "Life_Expectancy        9\n",
       "dtype: int64"
      ]
     },
     "execution_count": 28,
     "metadata": {},
     "output_type": "execute_result"
    }
   ],
   "source": [
    "df.isnull().sum()"
   ]
  },
  {
   "cell_type": "code",
   "execution_count": 29,
   "id": "aac6502c",
   "metadata": {},
   "outputs": [],
   "source": [
    "df = df[df['Life_Expectancy'].notnull()]"
   ]
  },
  {
   "cell_type": "code",
   "execution_count": 30,
   "id": "430b2dc1",
   "metadata": {},
   "outputs": [
    {
     "data": {
      "text/plain": [
       "(173, 20)"
      ]
     },
     "execution_count": 30,
     "metadata": {},
     "output_type": "execute_result"
    }
   ],
   "source": [
    "df.shape"
   ]
  },
  {
   "cell_type": "code",
   "execution_count": 31,
   "id": "4a568ede",
   "metadata": {},
   "outputs": [
    {
     "data": {
      "text/plain": [
       "Country                0\n",
       "Year                   0\n",
       "Status                 0\n",
       "Adult_Mortality        0\n",
       "Infant_Deaths          0\n",
       "Alcohol              166\n",
       "Hepatitis B            9\n",
       "Measles                0\n",
       "BMI                    2\n",
       "Underfive_Deaths       0\n",
       "Polio                  0\n",
       "Diphtheria             0\n",
       "HIV                    0\n",
       "GDP                   21\n",
       "Population            34\n",
       "Malnourished10_19      2\n",
       "Malnourished5_9        2\n",
       "Income_Index           7\n",
       "Schooling              7\n",
       "Life_Expectancy        0\n",
       "dtype: int64"
      ]
     },
     "execution_count": 31,
     "metadata": {},
     "output_type": "execute_result"
    }
   ],
   "source": [
    "df.isnull().sum()"
   ]
  },
  {
   "cell_type": "code",
   "execution_count": 36,
   "id": "5381ac4e",
   "metadata": {},
   "outputs": [],
   "source": [
    "df.drop('Alcohol', axis=1, inplace = True)"
   ]
  },
  {
   "cell_type": "code",
   "execution_count": 37,
   "id": "9c35023a",
   "metadata": {},
   "outputs": [],
   "source": [
    "df['Adult_Mortality'].fillna(df['Adult_Mortality'].median(),inplace = True)\n",
    "df['Hepatitis B'].fillna(df['Hepatitis B'].median(),inplace = True)\n",
    "df['BMI'].fillna(df['BMI'].median(),inplace = True)\n",
    "df['GDP'].fillna(df['GDP'].median(),inplace = True)\n",
    "df['Population'].fillna(df['Population'].median(),inplace = True)\n",
    "df['Malnourished10_19'].fillna(df['Malnourished10_19'].median(),inplace = True)\n",
    "df['Malnourished5_9'].fillna(df['Malnourished5_9'].median(),inplace = True)\n",
    "df['Income_Index'].fillna(df['Income_Index'].median(),inplace = True)\n",
    "df['Schooling'].fillna(df['Schooling'].median(),inplace = True)"
   ]
  },
  {
   "cell_type": "code",
   "execution_count": 38,
   "id": "9e83abab",
   "metadata": {},
   "outputs": [
    {
     "data": {
      "text/plain": [
       "Country              0\n",
       "Year                 0\n",
       "Status               0\n",
       "Adult_Mortality      0\n",
       "Infant_Deaths        0\n",
       "Hepatitis B          0\n",
       "Measles              0\n",
       "BMI                  0\n",
       "Underfive_Deaths     0\n",
       "Polio                0\n",
       "Diphtheria           0\n",
       "HIV                  0\n",
       "GDP                  0\n",
       "Population           0\n",
       "Malnourished10_19    0\n",
       "Malnourished5_9      0\n",
       "Income_Index         0\n",
       "Schooling            0\n",
       "Life_Expectancy      0\n",
       "dtype: int64"
      ]
     },
     "execution_count": 38,
     "metadata": {},
     "output_type": "execute_result"
    }
   ],
   "source": [
    "df.isnull().sum()"
   ]
  },
  {
   "cell_type": "code",
   "execution_count": null,
   "id": "cbf4a6b1",
   "metadata": {},
   "outputs": [],
   "source": [
    "#Missing value for continuous - Check the distribution.\n",
    "#If skewed then replace with Media"
   ]
  },
  {
   "cell_type": "code",
   "execution_count": null,
   "id": "8c5b7cbe",
   "metadata": {},
   "outputs": [],
   "source": []
  },
  {
   "cell_type": "code",
   "execution_count": null,
   "id": "0074679f",
   "metadata": {},
   "outputs": [],
   "source": []
  }
 ],
 "metadata": {
  "kernelspec": {
   "display_name": "Python 3 (ipykernel)",
   "language": "python",
   "name": "python3"
  },
  "language_info": {
   "codemirror_mode": {
    "name": "ipython",
    "version": 3
   },
   "file_extension": ".py",
   "mimetype": "text/x-python",
   "name": "python",
   "nbconvert_exporter": "python",
   "pygments_lexer": "ipython3",
   "version": "3.7.11"
  }
 },
 "nbformat": 4,
 "nbformat_minor": 5
}
